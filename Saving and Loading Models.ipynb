{
 "cells": [
  {
   "cell_type": "code",
   "execution_count": 47,
   "id": "3f5bc8f1",
   "metadata": {},
   "outputs": [],
   "source": [
    "# import libraries\n",
    "import os\n",
    "import tensorflow as tf\n",
    "from tensorflow import keras\n",
    "from tensorflow.keras import layers\n",
    "from tensorflow.keras.datasets import mnist\n",
    "\n",
    "# set gpu\n",
    "physical_devices = tf.config.list_physical_devices(\"GPU\")\n",
    "tf.config.experimental.set_memory_growth(physical_devices[0], True)\n",
    "\n",
    "# split data\n",
    "(x_train, y_train), (x_test, y_test) = mnist.load_data()\n",
    "# flatten the data and normalize it\n",
    "x_train = x_train.reshape(-1, 28*28).astype(\"float32\")/255.0\n",
    "x_test = x_test.reshape(-1, 28*28).astype(\"float32\")/255.0"
   ]
  },
  {
   "cell_type": "code",
   "execution_count": 48,
   "id": "4c3e4e2d",
   "metadata": {},
   "outputs": [],
   "source": [
    "# CNN -> BatchNorm -> ReLU (common structure)\n",
    "\n",
    "# 1. How to save and load model weights\n",
    "# 2. How to save and load entire model (Serializing Model)\n",
    "#    - Save weights\n",
    "#    - Save model architecture\n",
    "#    - Save Training configuration (model.compile())\n",
    "#    - Save optimizer and states"
   ]
  },
  {
   "cell_type": "code",
   "execution_count": 49,
   "id": "9f350aa0",
   "metadata": {},
   "outputs": [],
   "source": [
    "# Sequential API model\n",
    "model1 = keras.Sequential([\n",
    "    layers.Dense(64, activation='relu'),\n",
    "    layers.Dense(10)\n",
    "])"
   ]
  },
  {
   "cell_type": "code",
   "execution_count": 50,
   "id": "b3171c99",
   "metadata": {},
   "outputs": [],
   "source": [
    "# Functional API model\n",
    "inputs = keras.Input(784) # (28*28)\n",
    "x = layers.Dense(64, activation='relu')(inputs)\n",
    "outputs = layers.Dense(10)(x)\n",
    "model2 = keras.Model(inputs = inputs, outputs = outputs)"
   ]
  },
  {
   "cell_type": "code",
   "execution_count": 51,
   "id": "a23dc101",
   "metadata": {},
   "outputs": [],
   "source": [
    "# Model using subclass\n",
    "class MyModel(keras.Model):\n",
    "    def __init__(self):\n",
    "        super(MyModel, self).__init__()\n",
    "        self.dense1 = layers.Dense(64, activation='relu')\n",
    "        self.dense2 = layers.Dense(10)\n",
    "        \n",
    "    def call(self, input_tensor):\n",
    "        x = tf.nn.relu(self.dense1(input_tensor))\n",
    "        return self.dense2(x)\n",
    "    \n",
    "model3 = MyModel()"
   ]
  },
  {
   "cell_type": "code",
   "execution_count": 52,
   "id": "05b9ad7a",
   "metadata": {},
   "outputs": [],
   "source": [
    "model = model1"
   ]
  },
  {
   "cell_type": "code",
   "execution_count": 53,
   "id": "f84842e1",
   "metadata": {},
   "outputs": [],
   "source": [
    "model.compile(optimizer='Adam',\n",
    "             loss=keras.losses.SparseCategoricalCrossentropy(from_logits=True),\n",
    "             metrics = [\"accuracy\"])"
   ]
  },
  {
   "cell_type": "code",
   "execution_count": 63,
   "id": "aac312f5",
   "metadata": {},
   "outputs": [
    {
     "name": "stdout",
     "output_type": "stream",
     "text": [
      "Epoch 1/2\n",
      "1875/1875 - 5s - loss: 0.0258 - accuracy: 0.9919 - 5s/epoch - 3ms/step\n",
      "Epoch 2/2\n",
      "1875/1875 - 6s - loss: 0.0233 - accuracy: 0.9931 - 6s/epoch - 3ms/step\n",
      "313/313 - 1s - loss: 0.0851 - accuracy: 0.9760 - 894ms/epoch - 3ms/step\n",
      "INFO:tensorflow:Assets written to: my_model\\assets\n"
     ]
    }
   ],
   "source": [
    "model.fit(x_train, y_train, batch_size=32, epochs=2, verbose=2)\n",
    "model.evaluate(x_test, y_test, batch_size=32, verbose=2)\n",
    "# save model\n",
    "model.save(\"my_model\")"
   ]
  },
  {
   "cell_type": "code",
   "execution_count": 64,
   "id": "59d9b063",
   "metadata": {},
   "outputs": [
    {
     "name": "stdout",
     "output_type": "stream",
     "text": [
      "Epoch 1/2\n",
      "1875/1875 - 5s - loss: 0.0215 - accuracy: 0.9934 - 5s/epoch - 3ms/step\n",
      "Epoch 2/2\n",
      "1875/1875 - 5s - loss: 0.0179 - accuracy: 0.9945 - 5s/epoch - 3ms/step\n",
      "313/313 - 1s - loss: 0.0895 - accuracy: 0.9772 - 1s/epoch - 3ms/step\n"
     ]
    },
    {
     "data": {
      "text/plain": [
       "[0.08948568254709244, 0.9771999716758728]"
      ]
     },
     "execution_count": 64,
     "metadata": {},
     "output_type": "execute_result"
    }
   ],
   "source": [
    "# loading a saved model\n",
    "#model = model.load_weights('saved_models/')\n",
    "model = keras.models.load_model('my_model/')\n",
    "model.fit(x_train, y_train, batch_size=32, epochs=2, verbose=2)\n",
    "model.evaluate(x_test, y_test, batch_size=32, verbose=2)"
   ]
  },
  {
   "cell_type": "code",
   "execution_count": null,
   "id": "a843203b",
   "metadata": {},
   "outputs": [],
   "source": []
  }
 ],
 "metadata": {
  "kernelspec": {
   "display_name": "Python 3 (ipykernel)",
   "language": "python",
   "name": "python3"
  },
  "language_info": {
   "codemirror_mode": {
    "name": "ipython",
    "version": 3
   },
   "file_extension": ".py",
   "mimetype": "text/x-python",
   "name": "python",
   "nbconvert_exporter": "python",
   "pygments_lexer": "ipython3",
   "version": "3.10.0"
  }
 },
 "nbformat": 4,
 "nbformat_minor": 5
}
