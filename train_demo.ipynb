{
 "cells": [
  {
   "cell_type": "code",
   "execution_count": 3,
   "id": "bfc0fd13",
   "metadata": {},
   "outputs": [
    {
     "name": "stdout",
     "output_type": "stream",
     "text": [
      "Epoch 1/10\n",
      "782/782 - 16s - loss: 1.3394 - accuracy: 0.5191 - 16s/epoch - 21ms/step\n",
      "Epoch 2/10\n",
      "782/782 - 16s - loss: 0.9781 - accuracy: 0.6555 - 16s/epoch - 21ms/step\n",
      "Epoch 3/10\n",
      "782/782 - 17s - loss: 0.8251 - accuracy: 0.7126 - 17s/epoch - 21ms/step\n",
      "Epoch 4/10\n",
      "782/782 - 17s - loss: 0.7169 - accuracy: 0.7502 - 17s/epoch - 21ms/step\n",
      "Epoch 5/10\n",
      "782/782 - 16s - loss: 0.6328 - accuracy: 0.7808 - 16s/epoch - 21ms/step\n",
      "Epoch 6/10\n",
      "782/782 - 16s - loss: 0.5585 - accuracy: 0.8073 - 16s/epoch - 21ms/step\n",
      "Epoch 7/10\n",
      "782/782 - 17s - loss: 0.5012 - accuracy: 0.8277 - 17s/epoch - 21ms/step\n",
      "Epoch 8/10\n",
      "782/782 - 17s - loss: 0.4381 - accuracy: 0.8501 - 17s/epoch - 21ms/step\n",
      "Epoch 9/10\n",
      "782/782 - 17s - loss: 0.3878 - accuracy: 0.8693 - 17s/epoch - 21ms/step\n",
      "Epoch 10/10\n",
      "782/782 - 16s - loss: 0.3437 - accuracy: 0.8864 - 16s/epoch - 21ms/step\n",
      "157/157 - 2s - loss: 0.9169 - accuracy: 0.7125 - 2s/epoch - 11ms/step\n"
     ]
    },
    {
     "data": {
      "text/plain": [
       "[0.9168802499771118, 0.7124999761581421]"
      ]
     },
     "execution_count": 3,
     "metadata": {},
     "output_type": "execute_result"
    }
   ],
   "source": [
    "import os\n",
    "import tensorflow as tf\n",
    "from tensorflow import keras\n",
    "from tensorflow.keras import layers\n",
    "from tensorflow.keras.datasets import cifar10\n",
    "\n",
    "physical_devices = tf.config.list_physical_devices(\"GPU\")\n",
    "tf.config.experimental.set_memory_growth(physical_devices[0], True)\n",
    "\n",
    "(x_train, y_train), (x_test, y_test) = cifar10.load_data()\n",
    "x_train = x_train.astype(\"float32\") / 255.0\n",
    "x_test = x_test.astype(\"float32\") / 255.0\n",
    "\n",
    "model = keras.Sequential(\n",
    "    [\n",
    "        keras.Input(shape=(32, 32, 3)),\n",
    "        layers.Conv2D(32, 3, padding=\"valid\", activation=\"relu\"),\n",
    "        layers.MaxPooling2D(),\n",
    "        layers.Conv2D(64, 3, activation=\"relu\"),\n",
    "        layers.MaxPooling2D(),\n",
    "        layers.Conv2D(128, 3, activation=\"relu\"),\n",
    "        layers.Flatten(),\n",
    "        layers.Dense(64, activation=\"relu\"),\n",
    "        layers.Dense(10),\n",
    "    ]\n",
    ")\n",
    "\n",
    "\n",
    "def my_model():\n",
    "    inputs = keras.Input(shape=(32, 32, 3))\n",
    "    x = layers.Conv2D(32, 3)(inputs)\n",
    "    x = layers.BatchNormalization()(x)\n",
    "    x = keras.activations.relu(x)\n",
    "    x = layers.MaxPooling2D()(x)\n",
    "    x = layers.Conv2D(64, 3)(x)\n",
    "    x = layers.BatchNormalization()(x)\n",
    "    x = keras.activations.relu(x)\n",
    "    x = layers.MaxPooling2D()(x)\n",
    "    x = layers.Conv2D(128, 3)(x)\n",
    "    x = layers.BatchNormalization()(x)\n",
    "    x = keras.activations.relu(x)\n",
    "    x = layers.Flatten()(x)\n",
    "    x = layers.Dense(64, activation=\"relu\")(x)\n",
    "    outputs = layers.Dense(10)(x)\n",
    "    model = keras.Model(inputs=inputs, outputs=outputs)\n",
    "    return model\n",
    "\n",
    "\n",
    "model = my_model()\n",
    "model.compile(\n",
    "    loss=keras.losses.SparseCategoricalCrossentropy(from_logits=True),\n",
    "    optimizer=keras.optimizers.Adam(lr=3e-4),\n",
    "    metrics=[\"accuracy\"],\n",
    ")\n",
    "\n",
    "model.fit(x_train, y_train, batch_size=64, epochs=10, verbose=2)\n",
    "model.evaluate(x_test, y_test, batch_size=64, verbose=2)"
   ]
  },
  {
   "cell_type": "code",
   "execution_count": null,
   "id": "0d6b5e1c",
   "metadata": {},
   "outputs": [],
   "source": []
  }
 ],
 "metadata": {
  "kernelspec": {
   "display_name": "Python 3 (ipykernel)",
   "language": "python",
   "name": "python3"
  },
  "language_info": {
   "codemirror_mode": {
    "name": "ipython",
    "version": 3
   },
   "file_extension": ".py",
   "mimetype": "text/x-python",
   "name": "python",
   "nbconvert_exporter": "python",
   "pygments_lexer": "ipython3",
   "version": "3.10.0"
  }
 },
 "nbformat": 4,
 "nbformat_minor": 5
}
